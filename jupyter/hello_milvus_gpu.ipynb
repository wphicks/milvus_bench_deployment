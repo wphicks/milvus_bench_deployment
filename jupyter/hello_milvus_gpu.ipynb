{
 "cells": [
  {
   "cell_type": "markdown",
   "id": "1780e49d-ed82-4ea4-8ab4-af568ff35294",
   "metadata": {
    "jupyter": {
     "source_hidden": true
    }
   },
   "source": [
    "# Copyright (C) 2023 NVIDIA CORPORATION.\n",
    "#                                                                                                                         \n",
    "# Licensed under the Apache License, Version 2.0 (the \"License\"); you may not use this file except in compliance          \n",
    "# with the License. You may obtain a copy of the License at                                                               \n",
    "#                                                                                                                         \n",
    "# http://www.apache.org/licenses/LICENSE-2.0                                                                              \n",
    "#                                                                                                                         \n",
    "# Unless required by applicable law or agreed to in writing, software distributed under the License                       \n",
    "# is distributed on an \"AS IS\" BASIS, WITHOUT WARRANTIES OR CONDITIONS OF ANY KIND, either express                        \n",
    "# or implied. See the License for the specific language governing permissions and limitations under the License.\n",
    "\n",
    "# The following is lightly adapted from https://github.com/milvus-io/milvus/blob/master/tests/python_client/chaos/scripts/hello_milvus.py, distributed under the Apache License, Version 2.0"
   ]
  },
  {
   "cell_type": "code",
   "execution_count": null,
   "id": "2039496c-87f4-4d3e-b645-9dc9adb2fb7d",
   "metadata": {},
   "outputs": [],
   "source": [
    "import random\n",
    "import numpy as np\n",
    "import time\n",
    "from pymilvus import (\n",
    "    connections,\n",
    "    list_collections,\n",
    "    FieldSchema,\n",
    "    CollectionSchema,\n",
    "    DataType,\n",
    "    Collection\n",
    ")"
   ]
  },
  {
   "cell_type": "code",
   "execution_count": null,
   "id": "34b74b25-eedf-4fc8-a0e9-5d4e2d39bd42",
   "metadata": {},
   "outputs": [],
   "source": [
    "host = \"milvus\"\n",
    "# create connection\n",
    "connections.connect(host=host, port=\"19530\")\n",
    "\n",
    "print(f\"\\nList collections...\")\n",
    "print(list_collections())"
   ]
  },
  {
   "cell_type": "code",
   "execution_count": null,
   "id": "21d74dfa-e6c6-4209-bdc7-3049fea6deb6",
   "metadata": {},
   "outputs": [],
   "source": [
    "# create collection\n",
    "dim = 128\n",
    "default_fields = [\n",
    "    FieldSchema(name=\"int64\", dtype=DataType.INT64, is_primary=True),\n",
    "    FieldSchema(name=\"float\", dtype=DataType.FLOAT),\n",
    "    FieldSchema(name=\"varchar\", dtype=DataType.VARCHAR, max_length=65535),\n",
    "    FieldSchema(name=\"float_vector\", dtype=DataType.FLOAT_VECTOR, dim=dim)\n",
    "]\n",
    "default_schema = CollectionSchema(fields=default_fields, description=\"test collection\")\n",
    "\n",
    "print(f\"\\nCreate collection...\")\n",
    "collection = Collection(name=\"hello_milvus\", schema=default_schema)\n",
    "\n",
    "print(f\"\\nList collections...\")\n",
    "print(list_collections())"
   ]
  },
  {
   "cell_type": "code",
   "execution_count": null,
   "id": "abab789a-ea6a-4bdb-9df8-5349f1337aee",
   "metadata": {},
   "outputs": [],
   "source": [
    "#  insert data\n",
    "nb = 3000\n",
    "vectors = [[random.random() for _ in range(dim)] for _ in range(nb)]\n",
    "t0 = time.time()\n",
    "collection.insert(\n",
    "    [\n",
    "        [i for i in range(nb)],\n",
    "        [np.float32(i) for i in range(nb)],\n",
    "        [str(i) for i in range(nb)],\n",
    "        vectors\n",
    "    ]\n",
    ")\n",
    "t1 = time.time()\n",
    "print(f\"\\nInsert {nb} vectors cost {t1 - t0:.4f} seconds\")\n",
    "\n",
    "t0 = time.time()\n",
    "print(f\"\\nGet collection entities...\")\n",
    "collection.flush()\n",
    "print(collection.num_entities)\n",
    "t1 = time.time()\n",
    "print(f\"\\nGet collection entities cost {t1 - t0:.4f} seconds\")\n",
    "\n",
    "print(\"\\nGet replicas number\")\n",
    "try:\n",
    "    replicas_info = collection.get_replicas()\n",
    "    replica_number = len(replicas_info.groups)\n",
    "    print(f\"\\nReplicas number is {replica_number}\")\n",
    "except Exception as e:\n",
    "    print(str(e))\n",
    "    replica_number = 1"
   ]
  },
  {
   "cell_type": "code",
   "execution_count": null,
   "id": "29dc3f12-dc20-4cdf-b2b9-94bedb42dcda",
   "metadata": {},
   "outputs": [],
   "source": [
    "# create index and load table\n",
    "default_index = {\"index_type\": \"GPU_IVF_FLAT\", \"metric_type\": \"L2\", \"params\": {\"nlist\": 64}}\n",
    "print(f\"\\nCreate index...\")\n",
    "t0 = time.time()\n",
    "\n",
    "collection.release()\n",
    "\n",
    "collection.create_index(field_name=\"float_vector\", index_params=default_index)\n",
    "t1 = time.time()\n",
    "print(f\"\\nCreate index cost {t1 - t0:.4f} seconds\")\n",
    "print(f\"\\nload collection...\")\n",
    "t0 = time.time()\n",
    "collection.load(replica_number=replica_number)\n",
    "t1 = time.time()\n",
    "print(f\"\\nload collection cost {t1 - t0:.4f} seconds\")"
   ]
  },
  {
   "cell_type": "code",
   "execution_count": null,
   "id": "cc716f5f-9e42-462b-8523-559a4772f3cf",
   "metadata": {},
   "outputs": [],
   "source": [
    "# load and search\n",
    "topK = 5\n",
    "search_params = {\"metric_type\": \"L2\", \"params\": {\"nprobe\": 10}}\n",
    "t0 = time.time()\n",
    "print(f\"\\nSearch...\")\n",
    "# define output_fields of search result\n",
    "res = collection.search(\n",
    "    vectors[-2:], \"float_vector\", search_params, topK,\n",
    "    \"int64 > 100\", output_fields=[\"int64\", \"float\"], timeout=120\n",
    ")\n",
    "t1 = time.time()\n",
    "print(f\"search cost  {t1 - t0:.4f} seconds\")\n",
    "# show result\n",
    "for hits in res:\n",
    "    for hit in hits:\n",
    "        # Get value of the random value field for search result\n",
    "        print(hit, hit.entity.get(\"float\"))"
   ]
  },
  {
   "cell_type": "code",
   "execution_count": null,
   "id": "429fbf8b-d529-4816-9c11-5ccc96b439a5",
   "metadata": {},
   "outputs": [],
   "source": [
    "# query\n",
    "expr = \"int64 in [2,4,6,8]\"\n",
    "output_fields = [\"int64\", \"float\"]\n",
    "res = collection.query(expr, output_fields, timeout=120)\n",
    "sorted_res = sorted(res, key=lambda k: k['int64'])\n",
    "for r in sorted_res:\n",
    "    print(r)"
   ]
  }
 ],
 "metadata": {
  "kernelspec": {
   "display_name": "Python 3 (ipykernel)",
   "language": "python",
   "name": "python3"
  },
  "language_info": {
   "codemirror_mode": {
    "name": "ipython",
    "version": 3
   },
   "file_extension": ".py",
   "mimetype": "text/x-python",
   "name": "python",
   "nbconvert_exporter": "python",
   "pygments_lexer": "ipython3",
   "version": "3.11.5"
  }
 },
 "nbformat": 4,
 "nbformat_minor": 5
}
